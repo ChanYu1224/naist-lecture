{
 "cells": [
  {
   "cell_type": "code",
   "execution_count": 194,
   "metadata": {},
   "outputs": [],
   "source": [
    "# initial value setting\n",
    "student_id = '2211224'\n",
    "n = []\n",
    "for i in range(len(student_id)):\n",
    "    n.append(int(student_id[-i-1]))"
   ]
  },
  {
   "cell_type": "markdown",
   "metadata": {},
   "source": [
    "1. Calculate each probability of HMM by using the last three digits in your ID, and fill out the blank boxes bellow."
   ]
  },
  {
   "cell_type": "code",
   "execution_count": 195,
   "metadata": {},
   "outputs": [
    {
     "name": "stdout",
     "output_type": "stream",
     "text": [
      "{'S_in': {'M': 0.7, 'F': 0.3}, 'M': {'M': 0.4, 'F': 0.4, 'S_fin': 0.2, 'H': 0.6, 'S': 0.4}, 'F': {'M': 0.36666666666666664, 'F': 0.3, 'S_fin': 0.3333333333333333, 'H': 0.6, 'S': 0.4}}\n",
      "1-1 : 0.7\n",
      "1-2 : 0.3\n",
      "1-3 : 0.6\n",
      "1-4 : 0.4\n",
      "1-5 : 0.6\n",
      "1-6 : 0.4\n",
      "1-7 : 0.4\n",
      "1-8 : 0.4\n",
      "1-9 : 0.2\n",
      "1-10: 0.3\n",
      "1-11: 0.36666666666666664\n",
      "1-12: 0.3333333333333333\n"
     ]
    }
   ],
   "source": [
    "# p[i][j] = p(j|i)\n",
    "p = {\n",
    "    'S_in':{\n",
    "        'M': (10+n[0])/20,\n",
    "        'F': (10-n[0])/20,\n",
    "    },\n",
    "    'M':{\n",
    "        'M': (14-n[1])/30,\n",
    "        'F': (14-n[2])/30,\n",
    "        'S_fin': (2+n[1]+n[2])/30,\n",
    "        'H': (10+n[2])/20,\n",
    "        'S': (10-n[2])/20,\n",
    "    },\n",
    "    'F':{\n",
    "        'M': (13-n[1])/30,\n",
    "        'F': (13-n[0])/30,\n",
    "        'S_fin': (4+n[0]+n[1])/30,\n",
    "        'H': (10+n[1])/20,\n",
    "        'S': (10-n[1])/20,\n",
    "    }\n",
    "}\n",
    "\n",
    "print(p)\n",
    "\n",
    "print('1-1 :', p['S_in']['M'])\n",
    "print('1-2 :', p['S_in']['F'])\n",
    "print('1-3 :', p['M']['H'])\n",
    "print('1-4 :', p['M']['S'])\n",
    "print('1-5 :', p['F']['H'])\n",
    "print('1-6 :', p['F']['S'])\n",
    "print('1-7 :', p['M']['M'])\n",
    "print('1-8 :', p['M']['F'])\n",
    "print('1-9 :', p['M']['S_fin'])\n",
    "print('1-10:', p['F']['F'])\n",
    "print('1-11:', p['F']['M'])\n",
    "print('1-12:', p['F']['S_fin'])\n"
   ]
  },
  {
   "cell_type": "markdown",
   "metadata": {},
   "source": [
    "2. When three emotion transitions are observed, calculate the sequence of emotion and person transitions with the highest probability by using Viterbi algorithm (If those probabilities are the same, you may choose either one). Fill out the blank boxes in the following trellis and answer the sequence with its prob."
   ]
  },
  {
   "cell_type": "code",
   "execution_count": 196,
   "metadata": {},
   "outputs": [],
   "source": [
    "def happy_or_sad(p_h, p_s):\n",
    "    if p_h > p_s:\n",
    "        return 'H'\n",
    "    else:\n",
    "        return 'S'"
   ]
  },
  {
   "cell_type": "code",
   "execution_count": 197,
   "metadata": {},
   "outputs": [
    {
     "name": "stdout",
     "output_type": "stream",
     "text": [
      "2-1: 0.42\n",
      "2-2: 0.18\n",
      "2-3: 0.1008\n",
      "2-4: 0.1008\n",
      "2-5: 0.024192\n",
      "2-6: 0.024192\n",
      "2-7: 0.008064\n",
      "2-8: M\n",
      "2-9: H\n",
      "2-10: M\n",
      "2-11: H\n",
      "2-12: M\n",
      "2-13: H\n"
     ]
    }
   ],
   "source": [
    "N = 3\n",
    "\n",
    "# Viterbi algorithm\n",
    "alpha = [\n",
    "    [p['S_in']['M']*max(p['M']['H'], p['M']['S']), 0, 0],\n",
    "    [p['S_in']['F']*max(p['F']['H'], p['F']['S']), 0, 0],\n",
    "]\n",
    "\n",
    "choice = []\n",
    "\n",
    "for i in range(1,N):\n",
    "    emotion_probability = max(p['M']['H'], p['M']['S'])\n",
    "    from_m = alpha[0][i-1]*p['M']['M']*emotion_probability\n",
    "    from_f = alpha[1][i-1]*p['F']['M']*emotion_probability\n",
    "    next_probability = max(from_m, from_f)\n",
    "    alpha[0][i] = next_probability\n",
    "    \n",
    "    emotion_probability = max(p['F']['H'], p['F']['S'])\n",
    "    from_m = alpha[0][i-1]*p['M']['F']*emotion_probability\n",
    "    from_f = alpha[1][i-1]*p['F']['F']*emotion_probability\n",
    "    next_probability = max(from_m, from_f)\n",
    "    alpha[1][i] = next_probability\n",
    "\n",
    "s_fin = max(alpha[0][N-1] * p['M']['S_fin'], alpha[1][N-1] * p['F']['S_fin'])\n",
    "\n",
    "for i in range(N):\n",
    "    print('2-'+str(i*2+1)+':', alpha[0][i])\n",
    "    print('2-'+str(i*2+2)+':', alpha[1][i])\n",
    "print('2-7:', s_fin)\n",
    "\n",
    "z = None\n",
    "for i in range(N):\n",
    "    if alpha[0][i] > alpha[1][i]:\n",
    "        z = 'M'\n",
    "    elif alpha[0][i] < alpha[1][i]:\n",
    "        z = 'F'\n",
    "    print('2-'+str(8+i*2)+':', z)\n",
    "    print('2-'+str(8+i*2+1)+':', happy_or_sad(p[z]['H'], p[z]['S']))"
   ]
  },
  {
   "cell_type": "markdown",
   "metadata": {},
   "source": [
    "3. An emotional sequence \"Sad\" -> \"Sad\" -> \"Happy\" was observed. Calculate the likelihood with the forward algorithm, and fill out the blank boxes in the following trellis. Additionally, show the likelihood and the forward probabilities at n=2 as well."
   ]
  },
  {
   "cell_type": "code",
   "execution_count": 198,
   "metadata": {},
   "outputs": [
    {
     "name": "stdout",
     "output_type": "stream",
     "text": [
      "3-1 : 0.27999999999999997\n",
      "3-2 : 0.12\n",
      "3-3 : 0.0624\n",
      "3-4 : 0.0592\n",
      "3-5 : 0.027999999999999997\n",
      "3-6 : 0.025632000000000002\n",
      "3-7 : 0.014144\n",
      "3-8 : 0.014144\n",
      "3-9 : 0.0624\n",
      "3-10: 0.0592\n"
     ]
    }
   ],
   "source": [
    "N = 3\n",
    "\n",
    "emotions = ['S', 'S', 'H']\n",
    "\n",
    "alpha = [\n",
    "    [p['S_in']['M'] * p['M'][emotions[0]], 0, 0],\n",
    "    [p['S_in']['F'] * p['F'][emotions[0]], 0, 0],\n",
    "]\n",
    "\n",
    "for i in range(1,N):\n",
    "    from_m = alpha[0][i-1] * p['M']['M'] * p['M'][emotions[i]]\n",
    "    from_f = alpha[1][i-1] * p['F']['M'] * p['M'][emotions[i]]\n",
    "    next_probability = from_m + from_f\n",
    "    alpha[0][i] = next_probability\n",
    "    \n",
    "    from_m = alpha[0][i-1] * p['M']['F'] * p['F'][emotions[i]]\n",
    "    from_f = alpha[1][i-1] * p['F']['F'] * p['F'][emotions[i]]\n",
    "    next_probability = from_m + from_f\n",
    "    alpha[1][i] = next_probability\n",
    "\n",
    "s_fin = alpha[0][N-1] * p['M']['S_fin'] + alpha[1][N-1] * p['F']['S_fin']\n",
    "\n",
    "for i in range(N):\n",
    "    print('3-'+str(i*2+1)+' :', alpha[0][i])\n",
    "    print('3-'+str(i*2+2)+' :', alpha[1][i])\n",
    "print('3-7 :', s_fin)\n",
    "\n",
    "print('3-8 :', s_fin)\n",
    "print('3-9 :', alpha[0][1])\n",
    "print('3-10:', alpha[1][1])"
   ]
  },
  {
   "cell_type": "markdown",
   "metadata": {},
   "source": [
    "4. An emotional sequence \"Sad\" -> \"Sad\" -> \"Happy\" was observed. Calculate the likelihood with the backward algorithm, and fill out the blank boxes in the following trellis. Additionally, show the likelihood and the backward probabilities at n=2 as well."
   ]
  },
  {
   "cell_type": "code",
   "execution_count": 199,
   "metadata": {},
   "outputs": [
    {
     "name": "stdout",
     "output_type": "stream",
     "text": [
      "4-1 : 0.03712\n",
      "4-2 : 0.031253333333333334\n",
      "4-3 : 0.128\n",
      "4-4 : 0.10399999999999998\n",
      "4-5 : 0.2\n",
      "4-6 : 0.3333333333333333\n",
      "4-7 : 0.03536\n",
      "4-8 : 0.03536\n",
      "4-9 : 0.128\n",
      "4-10: 0.10399999999999998\n"
     ]
    }
   ],
   "source": [
    "N = 3\n",
    "\n",
    "emotions = ['S', 'S', 'H']\n",
    "\n",
    "beta = [\n",
    "    [0,0,p['M']['S_fin']],\n",
    "    [0,0,p['F']['S_fin']],\n",
    "]\n",
    "\n",
    "for i in reversed(range(N-1)):\n",
    "    from_m = beta[0][i+1] * p['M'][emotions[i+1]] * p['M']['M']\n",
    "    from_f = beta[1][i+1] * p['M'][emotions[i+1]] * p['M']['F']\n",
    "    next_probability = from_m + from_f\n",
    "    beta[0][i] = next_probability\n",
    "    \n",
    "    from_m = beta[0][i+1] * p['F'][emotions[i+1]] * p['F']['M']\n",
    "    from_f = beta[1][i+1] * p['F'][emotions[i+1]] * p['F']['F']\n",
    "    next_probability = from_m + from_f\n",
    "    beta[1][i] = next_probability\n",
    "\n",
    "s_in = beta[0][0] * p['S_in']['M'] + beta[1][0] * p['S_in']['F']\n",
    "\n",
    "for i in range(N):\n",
    "    print('4-'+str(i*2+1)+' :', beta[0][i])\n",
    "    print('4-'+str(i*2+2)+' :', beta[1][i])\n",
    "print('4-7 :', s_in)\n",
    "\n",
    "print('4-8 :', s_in)\n",
    "print('4-9 :', beta[0][1])\n",
    "print('4-10:', beta[1][1])"
   ]
  },
  {
   "cell_type": "markdown",
   "metadata": {},
   "source": [
    "5. Calculate the joint probabilities shown below using the forward and backward probabilities at n=2 calculated in the 3rd and 4th questions. Aditionally, calculate the HMM likelihood as the sum of these joint probabilities."
   ]
  },
  {
   "cell_type": "code",
   "execution_count": 200,
   "metadata": {},
   "outputs": [
    {
     "name": "stdout",
     "output_type": "stream",
     "text": [
      "5-1 : 0.0079872\n",
      "5-2 : 0.0061568\n",
      "5-3 : 0.5647058823529412\n"
     ]
    }
   ],
   "source": [
    "print('5-1 :', alpha[0][1]*beta[0][1])\n",
    "print('5-2 :', alpha[1][1]*beta[1][1])\n",
    "print('5-3 :', (alpha[0][1]*beta[0][1])/(alpha[0][1]*beta[0][1]+alpha[1][1]*beta[1][1]))"
   ]
  },
  {
   "cell_type": "markdown",
   "metadata": {},
   "source": [
    "Optional. When an emotional sequence \"Sad\" -> \"Sad\" -> \"Happy\" -> \"Sad\" -> \"Sad\" -> \"Happy\" was observed, compare the number of paths to compare to find the best wequence of person transition between Viterbi algorithm and enumerating all the possible sequences, and calculate the difference."
   ]
  },
  {
   "cell_type": "code",
   "execution_count": 201,
   "metadata": {},
   "outputs": [
    {
     "name": "stdout",
     "output_type": "stream",
     "text": [
      "2-1: 0.27999999999999997\n",
      "2-2: 0.12\n",
      "2-3: 0.0672\n",
      "2-4: 0.0672\n",
      "2-5: 0.016128\n",
      "2-6: 0.016128\n",
      "2-7: 0.0038707200000000002\n",
      "2-8: 0.0038707200000000002\n",
      "2-9: 0.0009289728\n",
      "2-10: 0.0009289728\n",
      "2-11: 0.000222953472\n",
      "2-12: 0.000222953472\n",
      "2-7: 7.4317824e-05\n",
      "2-8: M\n",
      "2-9: H\n",
      "2-10: M\n",
      "2-11: H\n",
      "2-12: M\n",
      "2-13: H\n",
      "2-14: M\n",
      "2-15: H\n",
      "2-16: M\n",
      "2-17: H\n",
      "2-18: M\n",
      "2-19: H\n"
     ]
    }
   ],
   "source": [
    "N = 6\n",
    "\n",
    "emotions = ['S', 'S', 'H', 'S', 'S', 'H']\n",
    "\n",
    "# Viterbi algorithm\n",
    "alpha = [\n",
    "    [p['S_in']['M']*p['M'][emotions[0]], 0, 0, 0, 0, 0],\n",
    "    [p['S_in']['F']*p['F'][emotions[0]], 0, 0, 0, 0, 0],\n",
    "]\n",
    "\n",
    "choice = []\n",
    "\n",
    "for i in range(1,N):\n",
    "    emotion_probability = max(p['M']['H'], p['M']['S'])\n",
    "    from_m = alpha[0][i-1]*p['M']['M']*emotion_probability\n",
    "    from_f = alpha[1][i-1]*p['F']['M']*emotion_probability\n",
    "    next_probability = max(from_m, from_f)\n",
    "    alpha[0][i] = next_probability\n",
    "    \n",
    "    emotion_probability = max(p['F']['H'], p['F']['S'])\n",
    "    from_m = alpha[0][i-1]*p['M']['F']*emotion_probability\n",
    "    from_f = alpha[1][i-1]*p['F']['F']*emotion_probability\n",
    "    next_probability = max(from_m, from_f)\n",
    "    alpha[1][i] = next_probability\n",
    "\n",
    "s_fin = max(alpha[0][N-1] * p['M']['S_fin'], alpha[1][N-1] * p['F']['S_fin'])"
   ]
  }
 ],
 "metadata": {
  "interpreter": {
   "hash": "aee8b7b246df8f9039afb4144a1f6fd8d2ca17a180786b69acc140d282b71a49"
  },
  "kernelspec": {
   "display_name": "Python 3.9.10 64-bit",
   "language": "python",
   "name": "python3"
  },
  "language_info": {
   "codemirror_mode": {
    "name": "ipython",
    "version": 3
   },
   "file_extension": ".py",
   "mimetype": "text/x-python",
   "name": "python",
   "nbconvert_exporter": "python",
   "pygments_lexer": "ipython3",
   "version": "3.9.10"
  },
  "orig_nbformat": 4
 },
 "nbformat": 4,
 "nbformat_minor": 2
}
