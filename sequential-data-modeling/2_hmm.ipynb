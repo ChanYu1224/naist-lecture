{
 "cells": [
  {
   "cell_type": "code",
   "execution_count": 4,
   "metadata": {},
   "outputs": [],
   "source": [
    "# initial value setting\n",
    "student_id = '2211224'\n",
    "n = []\n",
    "for i in range(len(student_id)):\n",
    "    n.append(int(student_id[-i-1]))"
   ]
  },
  {
   "cell_type": "markdown",
   "metadata": {},
   "source": [
    "1. Calculate each probability of HMM by using the last three digits in your ID, and fill out the blank boxes bellow."
   ]
  },
  {
   "cell_type": "code",
   "execution_count": 5,
   "metadata": {},
   "outputs": [
    {
     "name": "stdout",
     "output_type": "stream",
     "text": [
      "1-1 : 0.7\n",
      "1-2 : 0.3\n",
      "1-3 : 0.6\n",
      "1-4 : 0.4\n",
      "1-5 : 0.6\n",
      "1-6 : 0.4\n",
      "1-7 : 0.4\n",
      "1-8 : 0.4\n",
      "1-9 : 0.2\n",
      "1-10: 0.3\n",
      "1-11: 0.36666666666666664\n",
      "1-12: 0.3333333333333333\n"
     ]
    }
   ],
   "source": [
    "# p[i][j] = p(j|i)\n",
    "p = {\n",
    "    's_in':{\n",
    "        'm': (10+n[0])/20,\n",
    "        'f': (10-n[0])/20,\n",
    "    },\n",
    "    'm':{\n",
    "        'm': (14-n[1])/30,\n",
    "        'f': (14-n[2])/30,\n",
    "        's_fin': (2+n[1]+n[2])/30,\n",
    "        'p(h)': (10+n[2])/20,\n",
    "        'p(s)': (10-n[2])/20,\n",
    "    },\n",
    "    'f':{\n",
    "        'm': (13-n[1])/30,\n",
    "        'f': (13-n[0])/30,\n",
    "        's_fin': (4+n[0]+n[1])/30,\n",
    "        'p(h)': (10+n[1])/20,\n",
    "        'p(s)': (10-n[1])/20,\n",
    "    }\n",
    "}\n",
    "\n",
    "print('1-1 :', p['s_in']['m'])\n",
    "print('1-2 :', p['s_in']['f'])\n",
    "print('1-3 :', p['m']['p(h)'])\n",
    "print('1-4 :', p['m']['p(s)'])\n",
    "print('1-5 :', p['f']['p(h)'])\n",
    "print('1-6 :', p['f']['p(s)'])\n",
    "print('1-7 :', p['m']['m'])\n",
    "print('1-8 :', p['m']['f'])\n",
    "print('1-9 :', p['m']['s_fin'])\n",
    "print('1-10:', p['f']['f'])\n",
    "print('1-11:', p['f']['m'])\n",
    "print('1-12:', p['f']['s_fin'])\n"
   ]
  },
  {
   "cell_type": "markdown",
   "metadata": {},
   "source": [
    "2. When three emotion transitions are observed, calculate the sequence of emotion and person transitions with the highest probability by using Viterbi algorithm (If those probabilities are the same, you may choose either one). Fill out the blank boxes in the following trellis and answer the sequence with its prob."
   ]
  },
  {
   "cell_type": "code",
   "execution_count": null,
   "metadata": {},
   "outputs": [],
   "source": []
  }
 ],
 "metadata": {
  "interpreter": {
   "hash": "aee8b7b246df8f9039afb4144a1f6fd8d2ca17a180786b69acc140d282b71a49"
  },
  "kernelspec": {
   "display_name": "Python 3.9.10 64-bit",
   "language": "python",
   "name": "python3"
  },
  "language_info": {
   "codemirror_mode": {
    "name": "ipython",
    "version": 3
   },
   "file_extension": ".py",
   "mimetype": "text/x-python",
   "name": "python",
   "nbconvert_exporter": "python",
   "pygments_lexer": "ipython3",
   "version": "3.9.10"
  },
  "orig_nbformat": 4
 },
 "nbformat": 4,
 "nbformat_minor": 2
}
