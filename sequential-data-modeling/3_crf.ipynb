{
 "cells": [
  {
   "cell_type": "code",
   "execution_count": 7,
   "metadata": {},
   "outputs": [],
   "source": [
    "# initial value setting\n",
    "student_id = '2211224'\n",
    "n = [0,]\n",
    "for i in range(len(student_id)):\n",
    "    n.append(int(student_id[-i-1]))"
   ]
  },
  {
   "cell_type": "code",
   "execution_count": 8,
   "metadata": {},
   "outputs": [
    {
     "name": "stdout",
     "output_type": "stream",
     "text": [
      "1-1 : 0.3\n",
      "1-2 : 0.2\n",
      "1-3 : 0.3\n",
      "1-4 : 0.2\n",
      "1-5 : 0.1\n",
      "1-6 : 0.1\n",
      "1-7 : 0.7\n",
      "1-8 : 0.65\n",
      "1-9 : 0.7\n",
      "1-10: 0.25\n",
      "1-11: 0.2\n",
      "1-12: 0.75\n",
      "1-13: 0.6000000000000001\n",
      "1-14: 0.55\n",
      "1-15: 1.0999999999999999\n",
      "1-16: 1.2\n",
      "1-17: 1.2\n"
     ]
    }
   ],
   "source": [
    "w = {\n",
    "    'T':{\n",
    "        '/s/':{\n",
    "            'A': (n[1]+n[2])/20,\n",
    "            'V': (n[2]+n[3])/20,\n",
    "            'N': (n[1]+n[3])/20,\n",
    "        },\n",
    "        'A':{\n",
    "            'N': n[1]/20,\n",
    "            'V': n[2]/20,\n",
    "        },\n",
    "        'V':{\n",
    "            'N': n[3]/20,\n",
    "            'V': (n[1]+10)/20,\n",
    "            '/e/': (n[2]+n[3])/20,\n",
    "        },\n",
    "        'N':{\n",
    "            'N': (n[2]+11)/20,\n",
    "            'V': (n[3]+12)/20,\n",
    "            '/e/': (n[1]+1)/20,\n",
    "        },\n",
    "    },\n",
    "    'E':0,\n",
    "    'CAPS': 0,\n",
    "}\n",
    "\n",
    "def path_score(source: str, target: str):\n",
    "    return w['T']['/s/'][source]+w['T'][source][target]+w['T'][target]['/e/']\n",
    "\n",
    "\n",
    "print('1-1 :', w['T']['/s/']['A'])\n",
    "print('1-2 :', w['T']['/s/']['V'])\n",
    "print('1-3 :', w['T']['/s/']['N'])\n",
    "print('1-4 :', w['T']['A']['N'])\n",
    "print('1-5 :', w['T']['A']['V'])\n",
    "print('1-6 :', w['T']['V']['N'])\n",
    "print('1-7 :', w['T']['V']['V'])\n",
    "print('1-8 :', w['T']['N']['N'])\n",
    "print('1-9 :', w['T']['N']['V'])\n",
    "print('1-10:', w['T']['N']['/e/'])\n",
    "print('1-11:', w['T']['V']['/e/'])\n",
    "\n",
    "print('1-12:', path_score('A', 'N'))\n",
    "print('1-13:', path_score('A', 'V'))\n",
    "print('1-14:', path_score('V', 'N'))\n",
    "print('1-15:', path_score('V', 'V'))\n",
    "print('1-16:', path_score('N', 'N'))\n",
    "print('1-17:', path_score('N', 'V'))"
   ]
  },
  {
   "cell_type": "code",
   "execution_count": 10,
   "metadata": {},
   "outputs": [
    {
     "name": "stdout",
     "output_type": "stream",
     "text": [
      "2-1: 0.75\n",
      "2-2: 0.6000000000000001\n",
      "2-3: 0.55\n",
      "2-4: 1.0999999999999999\n",
      "2-5: 1.2\n",
      "2-6: 1.2\n"
     ]
    }
   ],
   "source": [
    "import numpy as np\n",
    "\n",
    "def softmax(x):\n",
    "    return np.exp(x) / np.sum(np.exp(x))\n",
    "\n",
    "path_scores = [\n",
    "    path_score('A', 'N'),\n",
    "    path_score('A', 'V'),\n",
    "    path_score('V', 'N'),\n",
    "    path_score('V', 'V'),\n",
    "    path_score('N', 'N'),\n",
    "    path_score('N', 'V'),\n",
    "]\n",
    "\n",
    "probabilities = softmax(path_scores)\n",
    "\n",
    "for i, score in enumerate(probabilities):\n",
    "    print('2-'+str(i+1)+':', score)"
   ]
  }
 ],
 "metadata": {
  "interpreter": {
   "hash": "dd061d9bf9f85fb3c8aab9cd636eb2c39724f48e2f38fd429325de2f5e984347"
  },
  "kernelspec": {
   "display_name": "Python 3.9.12 64-bit ('3.9.12')",
   "language": "python",
   "name": "python3"
  },
  "language_info": {
   "codemirror_mode": {
    "name": "ipython",
    "version": 3
   },
   "file_extension": ".py",
   "mimetype": "text/x-python",
   "name": "python",
   "nbconvert_exporter": "python",
   "pygments_lexer": "ipython3",
   "version": "3.9.12"
  },
  "orig_nbformat": 4
 },
 "nbformat": 4,
 "nbformat_minor": 2
}
