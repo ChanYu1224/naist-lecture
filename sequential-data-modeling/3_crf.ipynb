{
 "cells": [
  {
   "cell_type": "code",
   "execution_count": 1,
   "metadata": {},
   "outputs": [],
   "source": [
    "# initial value setting\n",
    "student_id = '2211224'\n",
    "n = [0,]\n",
    "for i in range(len(student_id)):\n",
    "    n.append(int(student_id[-i-1]))"
   ]
  },
  {
   "cell_type": "code",
   "execution_count": 2,
   "metadata": {},
   "outputs": [
    {
     "name": "stdout",
     "output_type": "stream",
     "text": [
      "1-1 : 0.3\n",
      "1-2 : 0.2\n",
      "1-3 : 0.3\n",
      "1-4 : 0.2\n",
      "1-5 : 0.1\n",
      "1-6 : 0.1\n",
      "1-7 : 0.7\n",
      "1-8 : 0.65\n",
      "1-9 : 0.7\n",
      "1-10: 0.25\n",
      "1-11: 0.2\n",
      "1-12: 0.75\n",
      "1-13: 0.6000000000000001\n",
      "1-14: 0.55\n",
      "1-15: 1.0999999999999999\n",
      "1-16: 1.2\n",
      "1-17: 1.2\n"
     ]
    }
   ],
   "source": [
    "w = {\n",
    "    'T':{\n",
    "        '/s/':{\n",
    "            'A': (n[1]+n[2])/20,\n",
    "            'V': (n[2]+n[3])/20,\n",
    "            'N': (n[1]+n[3])/20,\n",
    "        },\n",
    "        'A':{\n",
    "            'N': n[1]/20,\n",
    "            'V': n[2]/20,\n",
    "        },\n",
    "        'V':{\n",
    "            'N': n[3]/20,\n",
    "            'V': (n[1]+10)/20,\n",
    "            '/e/': (n[2]+n[3])/20,\n",
    "        },\n",
    "        'N':{\n",
    "            'N': (n[2]+11)/20,\n",
    "            'V': (n[3]+12)/20,\n",
    "            '/e/': (n[1]+1)/20,\n",
    "        },\n",
    "    },\n",
    "    'E':0,\n",
    "    'CAPS': 0,\n",
    "}\n",
    "\n",
    "def path_score(source: str, target: str):\n",
    "    return w['T']['/s/'][source]+w['T'][source][target]+w['T'][target]['/e/']\n",
    "\n",
    "\n",
    "print('1-1 :', w['T']['/s/']['A'])\n",
    "print('1-2 :', w['T']['/s/']['V'])\n",
    "print('1-3 :', w['T']['/s/']['N'])\n",
    "print('1-4 :', w['T']['A']['N'])\n",
    "print('1-5 :', w['T']['A']['V'])\n",
    "print('1-6 :', w['T']['V']['N'])\n",
    "print('1-7 :', w['T']['V']['V'])\n",
    "print('1-8 :', w['T']['N']['N'])\n",
    "print('1-9 :', w['T']['N']['V'])\n",
    "print('1-10:', w['T']['N']['/e/'])\n",
    "print('1-11:', w['T']['V']['/e/'])\n",
    "\n",
    "print('1-12:', path_score('A', 'N'))\n",
    "print('1-13:', path_score('A', 'V'))\n",
    "print('1-14:', path_score('V', 'N'))\n",
    "print('1-15:', path_score('V', 'V'))\n",
    "print('1-16:', path_score('N', 'N'))\n",
    "print('1-17:', path_score('N', 'V'))"
   ]
  },
  {
   "cell_type": "code",
   "execution_count": 3,
   "metadata": {},
   "outputs": [
    {
     "name": "stdout",
     "output_type": "stream",
     "text": [
      "2-1: 0.13821450482412817\n",
      "2-2: 0.11896232675976676\n",
      "2-3: 0.11316046562095881\n",
      "2-4: 0.19613571854080644\n",
      "2-5: 0.21676349212716992\n",
      "2-6: 0.21676349212716992\n"
     ]
    }
   ],
   "source": [
    "import numpy as np\n",
    "\n",
    "def softmax(x):\n",
    "    return np.exp(x) / np.sum(np.exp(x))\n",
    "\n",
    "middle_path_scores = [\n",
    "    path_score('A', 'N'),\n",
    "    path_score('A', 'V'),\n",
    "    path_score('V', 'N'),\n",
    "    path_score('V', 'V'),\n",
    "    path_score('N', 'N'),\n",
    "    path_score('N', 'V'),\n",
    "]\n",
    "\n",
    "middle_probabilities = softmax(middle_path_scores)\n",
    "\n",
    "for i, score in enumerate(middle_probabilities):\n",
    "    print('2-'+str(i+1)+':', score)"
   ]
  },
  {
   "cell_type": "code",
   "execution_count": 4,
   "metadata": {},
   "outputs": [
    {
     "name": "stdout",
     "output_type": "stream",
     "text": [
      "3-1: 0.34425334574357264\n",
      "3-2: 0.3114933085128547\n",
      "3-3: 0.34425334574357264\n"
     ]
    }
   ],
   "source": [
    "input_path_scores = [\n",
    "    w['T']['/s/']['A'],\n",
    "    w['T']['/s/']['V'],\n",
    "    w['T']['/s/']['N'],\n",
    "]\n",
    "\n",
    "input_probabilities = softmax(input_path_scores)\n",
    "\n",
    "for i, score in enumerate(input_probabilities):\n",
    "    print('3-'+str(i+1)+':', score)"
   ]
  },
  {
   "cell_type": "code",
   "execution_count": 5,
   "metadata": {},
   "outputs": [
    {
     "name": "stdout",
     "output_type": "stream",
     "text": [
      "3-4: 0.5124973964842102\n",
      "3-5: 0.4875026035157896\n"
     ]
    }
   ],
   "source": [
    "output_path_scores = [\n",
    "    w['T']['N']['/e/'],\n",
    "    w['T']['V']['/e/'],\n",
    "]\n",
    "\n",
    "output_probabilities = softmax(output_path_scores)\n",
    "\n",
    "for i, score in enumerate(output_probabilities):\n",
    "    print('3-'+str(i+4)+':', score)"
   ]
  },
  {
   "cell_type": "code",
   "execution_count": 6,
   "metadata": {},
   "outputs": [
    {
     "name": "stdout",
     "output_type": "stream",
     "text": [
      "4-1 : 0.9557466542564275\n",
      "4-2 : -0.14425334574357263\n",
      "4-3 : -0.04425334574357265\n",
      "4-4 : 1.0617854951758718\n",
      "4-5 : -0.038214504824128165\n",
      "4-6 : -0.038214504824128165\n",
      "4-7 : 0.5617854951758718\n",
      "4-8 : 0.5117854951758718\n",
      "4-9 : 0.5617854951758718\n",
      "4-10: 0.7375026035157898\n",
      "4-11: -0.3124973964842102\n"
     ]
    }
   ],
   "source": [
    "# correct path is '/s/' -> 'A' -> 'N' -> '/e/'\n",
    "\n",
    "learning_rate = 1.0\n",
    "\n",
    "grad = 1 - input_probabilities[0]\n",
    "w['T']['/s/']['A'] += learning_rate * grad\n",
    "grad = 0 - input_probabilities[0]\n",
    "w['T']['/s/']['V'] += learning_rate * grad\n",
    "grad = 0 - input_probabilities[0]\n",
    "w['T']['/s/']['N'] += learning_rate * grad\n",
    "\n",
    "grad = 1 - middle_probabilities[0]\n",
    "w['T']['A']['N'] += learning_rate * grad\n",
    "grad = 0 - middle_probabilities[0]\n",
    "w['T']['A']['V'] += learning_rate * grad\n",
    "grad = 0 - middle_probabilities[0]\n",
    "w['T']['V']['N'] += learning_rate * grad\n",
    "grad = 0 - middle_probabilities[0]\n",
    "w['T']['V']['V'] += learning_rate * grad\n",
    "grad = 0 - middle_probabilities[0]\n",
    "w['T']['N']['N'] += learning_rate * grad\n",
    "grad = 0 - middle_probabilities[0]\n",
    "w['T']['N']['V'] += learning_rate * grad\n",
    "\n",
    "grad = 1 - output_probabilities[0]\n",
    "w['T']['N']['/e/'] += learning_rate * grad\n",
    "grad = 0 - output_probabilities[0]\n",
    "w['T']['V']['/e/'] += learning_rate * grad\n",
    "\n",
    "print('4-1 :', w['T']['/s/']['A'])\n",
    "print('4-2 :', w['T']['/s/']['V'])\n",
    "print('4-3 :', w['T']['/s/']['N'])\n",
    "print('4-4 :', w['T']['A']['N'])\n",
    "print('4-5 :', w['T']['A']['V'])\n",
    "print('4-6 :', w['T']['V']['N'])\n",
    "print('4-7 :', w['T']['V']['V'])\n",
    "print('4-8 :', w['T']['N']['N'])\n",
    "print('4-9 :', w['T']['N']['V'])\n",
    "print('4-10:', w['T']['N']['/e/'])\n",
    "print('4-11:', w['T']['V']['/e/'])"
   ]
  }
 ],
 "metadata": {
  "interpreter": {
   "hash": "dd061d9bf9f85fb3c8aab9cd636eb2c39724f48e2f38fd429325de2f5e984347"
  },
  "kernelspec": {
   "display_name": "Python 3.9.12 64-bit ('3.9.12')",
   "language": "python",
   "name": "python3"
  },
  "language_info": {
   "codemirror_mode": {
    "name": "ipython",
    "version": 3
   },
   "file_extension": ".py",
   "mimetype": "text/x-python",
   "name": "python",
   "nbconvert_exporter": "python",
   "pygments_lexer": "ipython3",
   "version": "3.9.12"
  },
  "orig_nbformat": 4
 },
 "nbformat": 4,
 "nbformat_minor": 2
}
