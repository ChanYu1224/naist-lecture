{
 "cells": [
  {
   "cell_type": "code",
   "execution_count": 56,
   "metadata": {},
   "outputs": [],
   "source": [
    "# initial value setting\n",
    "student_id = '2211224'\n",
    "n = []\n",
    "for i in range(len(student_id)):\n",
    "    n.append(int(student_id[-i-1]))"
   ]
  },
  {
   "cell_type": "code",
   "execution_count": 57,
   "metadata": {},
   "outputs": [
    {
     "name": "stdout",
     "output_type": "stream",
     "text": [
      "1-1 : 2\n",
      "1-2 : 3\n",
      "1-3 : 5\n",
      "1-4 : 1\n",
      "1-5 : 2\n",
      "1-6 : 6\n",
      "1-7 : 3\n",
      "1-8 : 6\n",
      "1-9 : 6\n",
      "1-10 : 8\n"
     ]
    }
   ],
   "source": [
    "import numpy as np\n",
    "\n",
    "x = np.matrix([\n",
    "    [0, n[1], n[1]+n[2]+n[3], n[1], n[2]+n[3], n[0]+n[2]],\n",
    "    [0, n[1]+n[3], n[3], n[0]+n[2], n[0]+n[1], n[0]+n[0]],\n",
    "])\n",
    "w = np.matrix([\n",
    "    [1],\n",
    "    [0],\n",
    "])\n",
    "mu = np.matrix([\n",
    "    [0],\n",
    "    [0],\n",
    "])\n",
    "sigma = np.matrix([\n",
    "    [1,0],\n",
    "    [0,1],\n",
    "])\n",
    "\n",
    "for i in range(1,6):\n",
    "    print('1-'+str(i*2-1)+' :', x[0,i])\n",
    "    print('1-'+str(i*2)+' :', x[1,i])"
   ]
  },
  {
   "cell_type": "code",
   "execution_count": 58,
   "metadata": {},
   "outputs": [
    {
     "name": "stdout",
     "output_type": "stream",
     "text": [
      "1-11 : 3.0\n",
      "1-12 : 4.0\n"
     ]
    }
   ],
   "source": [
    "mu = np.average(x, axis=1)\n",
    "print('1-11 :', mu[0,0])\n",
    "print('1-12 :', mu[1,0])"
   ]
  },
  {
   "cell_type": "code",
   "execution_count": 59,
   "metadata": {},
   "outputs": [
    {
     "name": "stdout",
     "output_type": "stream",
     "text": [
      "1-13 : -1.0\n",
      "1-14 : -1.0\n",
      "1-15 : 2.0\n",
      "1-16 : -3.0\n",
      "1-17 : -1.0\n",
      "1-18 : 2.0\n",
      "1-19 : 0.0\n",
      "1-20 : 2.0\n",
      "1-21 : 3.0\n",
      "1-22 : 4.0\n"
     ]
    }
   ],
   "source": [
    "x = x - mu\n",
    "\n",
    "for i in range(1,6):\n",
    "    print('1-'+str(12+i*2-1)+' :', x[0,i])\n",
    "    print('1-'+str(12+i*2)+' :', x[1,i])"
   ]
  },
  {
   "cell_type": "code",
   "execution_count": 60,
   "metadata": {},
   "outputs": [
    {
     "name": "stdout",
     "output_type": "stream",
     "text": [
      "2-1 : 0.5\n"
     ]
    }
   ],
   "source": [
    "sigma_zx = (w.T @ np.linalg.inv(sigma) @ w + 1)**(-1)\n",
    "sigma_zx = sigma_zx[0,0]\n",
    "\n",
    "print('2-1 :', sigma_zx)"
   ]
  },
  {
   "cell_type": "code",
   "execution_count": 61,
   "metadata": {},
   "outputs": [
    {
     "name": "stdout",
     "output_type": "stream",
     "text": [
      "2-2 : -0.5\n",
      "2-3 : 1.0\n",
      "2-4 : -0.5\n",
      "2-5 : 0.0\n",
      "2-6 : 1.5\n"
     ]
    }
   ],
   "source": [
    "z = [0,]\n",
    "\n",
    "for i in range(1, x.shape[1]):\n",
    "    tmp = sigma_zx * w.T @ np.linalg.inv(sigma) @ x[:,i]\n",
    "    tmp = tmp[0,0]\n",
    "    z.append(tmp)\n",
    "    print('2-'+str(i+1)+' :', tmp)"
   ]
  },
  {
   "cell_type": "code",
   "execution_count": 62,
   "metadata": {},
   "outputs": [
    {
     "name": "stdout",
     "output_type": "stream",
     "text": [
      "2-7 : 0.75\n",
      "2-8 : 1.5\n",
      "2-9 : 0.75\n",
      "2-10 : 0.5\n",
      "2-11 : 2.75\n"
     ]
    }
   ],
   "source": [
    "zz = [0,]\n",
    "\n",
    "for i in range(1, x.shape[1]):\n",
    "    tmp = sigma_zx + z[i]*z[i]\n",
    "    zz.append(tmp)\n",
    "    print('2-'+str(i+6)+' :', tmp)"
   ]
  },
  {
   "cell_type": "code",
   "execution_count": 63,
   "metadata": {},
   "outputs": [
    {
     "name": "stdout",
     "output_type": "stream",
     "text": [
      "3-1 : 5\n",
      "3-2 : 15.0\n",
      "3-3 : 5.0\n",
      "3-4 : 5.0\n",
      "3-5 : 34.0\n",
      "3-6 : 6.25\n",
      "3-7 : 7.5\n",
      "3-8 : 2.5\n"
     ]
    }
   ],
   "source": [
    "N = 5\n",
    "\n",
    "print('3-1 :', N)\n",
    "\n",
    "xx = np.matrix(np.zeros((2,2)))\n",
    "for i in range(1, x.shape[1]):\n",
    "    xx += x[:,i] @ x[:,i].T\n",
    "\n",
    "for i in range(2):\n",
    "    for j in range(2):\n",
    "        print('3-'+str(i*2+j+2)+' :', xx[i,j])\n",
    "\n",
    "zz_ = np.sum(zz)\n",
    "zz = zz_\n",
    "print('3-6 :', zz)\n",
    "\n",
    "xz = np.matrix(np.zeros((2,1)))\n",
    "for i in range(1,x.shape[1]):\n",
    "    xz += x[:,i] * z[i]\n",
    "print('3-7 :', xz[0,0])\n",
    "print('3-8 :', xz[1,0])"
   ]
  },
  {
   "cell_type": "code",
   "execution_count": 64,
   "metadata": {},
   "outputs": [
    {
     "name": "stdout",
     "output_type": "stream",
     "text": [
      "4-1 : 7.5\n",
      "4-2 : 2.5\n",
      "4-3 : 6.25\n",
      "4-4 : 1.2\n",
      "4-5 : 0.4\n",
      "4-6 : 15.0\n",
      "4-7 : 5.0\n",
      "4-8 : 5.0\n",
      "4-9 : 34.0\n",
      "4-10 : 7.5\n",
      "4-11: 2.5\n",
      "4-12: 1.2\n",
      "4-13: 0.4\n",
      "4-14: 1.170531187208764\n",
      "4-15: 0.0\n",
      "4-16: 0.0\n",
      "4-17: 6.629468812791236\n"
     ]
    }
   ],
   "source": [
    "w_hat = xz * (zz**(-1))\n",
    "\n",
    "print('4-1 :', xz[0,0])\n",
    "print('4-2 :', xz[1,0])\n",
    "print('4-3 :', zz)\n",
    "print('4-4 :', w_hat[0,0])\n",
    "print('4-5 :', w_hat[1,0])\n",
    "\n",
    "def diag(x):\n",
    "    eig = np.linalg.eig(x)\n",
    "    e = np.diag(eig[0])\n",
    "    return e\n",
    "\n",
    "sigma_hat = diag(xx - xz @ w_hat.T)/N\n",
    "\n",
    "print('4-6 :', xx[0,0])\n",
    "print('4-7 :', xx[0,1])\n",
    "print('4-8 :', xx[1,0])\n",
    "print('4-9 :', xx[1,1])\n",
    "print('4-10 :', xz[0,0])\n",
    "print('4-11:', xz[1,0])\n",
    "print('4-12:', w_hat[0,0])\n",
    "print('4-13:', w_hat[1,0])\n",
    "print('4-14:', sigma_hat[0,0])\n",
    "print('4-15:', sigma_hat[0,1])\n",
    "print('4-16:', sigma_hat[1,0])\n",
    "print('4-17:', sigma_hat[1,1])"
   ]
  },
  {
   "cell_type": "code",
   "execution_count": 65,
   "metadata": {},
   "outputs": [
    {
     "name": "stdout",
     "output_type": "stream",
     "text": [
      "5-1 : 1\n",
      "5-2 : 0\n",
      "5-3 : 1\n",
      "5-4 : 0\n",
      "5-5 : 1\n",
      "5-6 : 0\n",
      "5-7 : 0\n",
      "5-8 : 1\n",
      "5-9 : 2\n",
      "5-10: 0\n",
      "5-11: 0\n",
      "5-12: 1\n",
      "5-13: 1.2\n",
      "5-14: 0.4\n",
      "5-15: 1.2\n",
      "5-16: 0.4\n",
      "5-17: 1.170531187208764\n",
      "5-18: 0.0\n",
      "5-19: 0.0\n",
      "5-20: 6.629468812791236\n",
      "5-21: 2.610531187208764\n",
      "5-22: 0.48\n",
      "5-23: 0.48\n",
      "5-24: 6.789468812791236\n"
     ]
    }
   ],
   "source": [
    "before = w @ w.T + sigma\n",
    "print('5-1 :', w[0,0])\n",
    "print('5-2 :', w[1,0])\n",
    "print('5-3 :', w[0,0])\n",
    "print('5-4 :', w[1,0])\n",
    "print('5-5 :', sigma[0,0])\n",
    "print('5-6 :', sigma[0,1])\n",
    "print('5-7 :', sigma[1,0])\n",
    "print('5-8 :', sigma[1,1])\n",
    "print('5-9 :', before[0,0])\n",
    "print('5-10:', before[0,1])\n",
    "print('5-11:', before[1,0])\n",
    "print('5-12:', before[1,1])\n",
    "\n",
    "after = w_hat @ w_hat.T + sigma_hat\n",
    "print('5-13:', w_hat[0,0])\n",
    "print('5-14:', w_hat[1,0])\n",
    "print('5-15:', w_hat[0,0])\n",
    "print('5-16:', w_hat[1,0])\n",
    "print('5-17:', sigma_hat[0,0])\n",
    "print('5-18:', sigma_hat[0,1])\n",
    "print('5-19:', sigma_hat[1,0])\n",
    "print('5-20:', sigma_hat[1,1])\n",
    "print('5-21:', after[0,0])\n",
    "print('5-22:', after[0,1])\n",
    "print('5-23:', after[1,0])\n",
    "print('5-24:', after[1,1])"
   ]
  }
 ],
 "metadata": {
  "interpreter": {
   "hash": "aee8b7b246df8f9039afb4144a1f6fd8d2ca17a180786b69acc140d282b71a49"
  },
  "kernelspec": {
   "display_name": "Python 3.9.10 64-bit",
   "language": "python",
   "name": "python3"
  },
  "language_info": {
   "codemirror_mode": {
    "name": "ipython",
    "version": 3
   },
   "file_extension": ".py",
   "mimetype": "text/x-python",
   "name": "python",
   "nbconvert_exporter": "python",
   "pygments_lexer": "ipython3",
   "version": "3.9.10"
  },
  "orig_nbformat": 4
 },
 "nbformat": 4,
 "nbformat_minor": 2
}
