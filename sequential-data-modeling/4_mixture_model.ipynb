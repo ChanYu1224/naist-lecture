{
 "cells": [
  {
   "cell_type": "code",
   "execution_count": 1,
   "metadata": {},
   "outputs": [],
   "source": [
    "# initial value setting\n",
    "student_id = '2211224'\n",
    "n = []\n",
    "for i in range(len(student_id)):\n",
    "    n.append(int(student_id[-i-1]))"
   ]
  },
  {
   "cell_type": "code",
   "execution_count": 2,
   "metadata": {},
   "outputs": [
    {
     "name": "stdout",
     "output_type": "stream",
     "text": [
      "1-1 : 5\n",
      "1-2 : 1\n",
      "1-3 : 2\n",
      "1-4 : 3\n",
      "1-5 : 2\n",
      "1-6 : 6\n",
      "1-7 : 6\n",
      "1-8 : 3\n",
      "1-9 : 6\n",
      "1-10 : 5\n"
     ]
    }
   ],
   "source": [
    "import numpy as np\n",
    "\n",
    "N = 5\n",
    "x = np.matrix([\n",
    "    [n[1]+n[2]+n[3], n[1]     , n[2]     , n[0]+n[1], n[0]+n[2]],\n",
    "    [n[3]          , n[1]+n[3], n[0]+n[1], n[2]+n[3], n[0]+n[3]],\n",
    "])\n",
    "w = np.matrix([\n",
    "    [1],\n",
    "    [0],\n",
    "])\n",
    "mu = np.matrix([\n",
    "    [0],\n",
    "    [0],\n",
    "])\n",
    "sigma = np.matrix([\n",
    "    [1,0],\n",
    "    [0,1],\n",
    "])\n",
    "\n",
    "for i in range(N):\n",
    "    print('1-'+str(1+i*2)+' :', x[0,i])\n",
    "    print('1-'+str(2+i*2)+' :', x[1,i])"
   ]
  },
  {
   "cell_type": "code",
   "execution_count": 3,
   "metadata": {},
   "outputs": [
    {
     "name": "stdout",
     "output_type": "stream",
     "text": [
      "1-11 : 4.2\n",
      "1-12 : 3.6\n"
     ]
    }
   ],
   "source": [
    "mu = np.average(x, axis=1)\n",
    "print('1-11 :', mu[0,0])\n",
    "print('1-12 :', mu[1,0])"
   ]
  },
  {
   "cell_type": "code",
   "execution_count": 4,
   "metadata": {},
   "outputs": [
    {
     "name": "stdout",
     "output_type": "stream",
     "text": [
      "1-13 : 0.7999999999999998\n",
      "1-14 : -2.6\n",
      "1-15 : -2.2\n",
      "1-16 : -0.6000000000000001\n",
      "1-17 : -2.2\n",
      "1-18 : 2.4\n",
      "1-19 : 1.7999999999999998\n",
      "1-20 : -0.6000000000000001\n",
      "1-21 : 1.7999999999999998\n",
      "1-22 : 1.4\n"
     ]
    }
   ],
   "source": [
    "x = x - mu\n",
    "\n",
    "for i in range(N):\n",
    "    print('1-'+str(13+i*2)+' :', x[0,i])\n",
    "    print('1-'+str(13+i*2+1)+' :', x[1,i])"
   ]
  },
  {
   "cell_type": "code",
   "execution_count": 5,
   "metadata": {},
   "outputs": [
    {
     "name": "stdout",
     "output_type": "stream",
     "text": [
      "2-1 : 0.5\n"
     ]
    }
   ],
   "source": [
    "sigma_zx = (w.T @ np.linalg.inv(sigma) @ w + 1)**(-1)\n",
    "sigma_zx = sigma_zx[0,0]\n",
    "\n",
    "print('2-1 :', sigma_zx)"
   ]
  },
  {
   "cell_type": "code",
   "execution_count": 6,
   "metadata": {},
   "outputs": [
    {
     "name": "stdout",
     "output_type": "stream",
     "text": [
      "2-2 : 0.3999999999999999\n",
      "2-3 : -1.1\n",
      "2-4 : -1.1\n",
      "2-5 : 0.8999999999999999\n",
      "2-6 : 0.8999999999999999\n"
     ]
    }
   ],
   "source": [
    "z = []\n",
    "\n",
    "for i in range(N):\n",
    "    tmp = sigma_zx * w.T @ np.linalg.inv(sigma) @ x[:,i]\n",
    "    tmp = tmp[0,0]\n",
    "    z.append(tmp)\n",
    "    print('2-'+str(i+2)+' :', tmp)"
   ]
  },
  {
   "cell_type": "code",
   "execution_count": 7,
   "metadata": {},
   "outputs": [
    {
     "name": "stdout",
     "output_type": "stream",
     "text": [
      "2-7 : 0.6599999999999999\n",
      "2-8 : 1.7100000000000002\n",
      "2-9 : 1.7100000000000002\n",
      "2-10 : 1.3099999999999998\n",
      "2-11 : 1.3099999999999998\n"
     ]
    }
   ],
   "source": [
    "zz = []\n",
    "\n",
    "for i in range(N):\n",
    "    tmp = sigma_zx + z[i]*z[i]\n",
    "    zz.append(tmp)\n",
    "    print('2-'+str(i+7)+' :', tmp)"
   ]
  },
  {
   "cell_type": "code",
   "execution_count": 8,
   "metadata": {},
   "outputs": [
    {
     "name": "stdout",
     "output_type": "stream",
     "text": [
      "3-1 : 5\n",
      "3-2 : 16.799999999999997\n",
      "3-3 : -4.6\n",
      "3-4 : -4.6\n",
      "3-5 : 15.2\n",
      "3-6 : 6.699999999999999\n",
      "3-7 : 8.399999999999999\n",
      "3-8 : -2.3\n"
     ]
    }
   ],
   "source": [
    "N = 5\n",
    "\n",
    "print('3-1 :', N)\n",
    "\n",
    "xx = np.matrix(np.zeros((2,2)))\n",
    "for i in range(N):\n",
    "    xx += x[:,i] @ x[:,i].T\n",
    "\n",
    "for i in range(2):\n",
    "    for j in range(2):\n",
    "        print('3-'+str(i*2+j+2)+' :', xx[i,j])\n",
    "\n",
    "zz_ = np.sum(zz)\n",
    "zz = zz_\n",
    "print('3-6 :', zz)\n",
    "\n",
    "xz = np.matrix(np.zeros((2,1)))\n",
    "for i in range(N):\n",
    "    xz += x[:,i] * z[i]\n",
    "print('3-7 :', xz[0,0])\n",
    "print('3-8 :', xz[1,0])"
   ]
  },
  {
   "cell_type": "code",
   "execution_count": 9,
   "metadata": {},
   "outputs": [
    {
     "name": "stdout",
     "output_type": "stream",
     "text": [
      "4-1 : 8.399999999999999\n",
      "4-2 : -2.3\n",
      "4-3 : 6.699999999999999\n",
      "4-4 : 1.253731343283582\n",
      "4-5 : -0.34328358208955223\n",
      "4-6 : 16.799999999999997\n",
      "4-7 : -4.6\n",
      "4-8 : -4.6\n",
      "4-9 : 15.2\n",
      "4-10 : 8.399999999999999\n",
      "4-11: -2.3\n",
      "4-12: 1.253731343283582\n",
      "4-13: -0.34328358208955223\n",
      "4-14: 1.184320479563161\n",
      "4-15: 0.0\n",
      "4-16: 0.0\n",
      "4-17: 2.951500415959227\n"
     ]
    }
   ],
   "source": [
    "w_hat = xz * (zz**(-1))\n",
    "\n",
    "print('4-1 :', xz[0,0])\n",
    "print('4-2 :', xz[1,0])\n",
    "print('4-3 :', zz)\n",
    "print('4-4 :', w_hat[0,0])\n",
    "print('4-5 :', w_hat[1,0])\n",
    "\n",
    "def diag(x):\n",
    "    eig = np.linalg.eig(x)\n",
    "    e = np.diag(eig[0])\n",
    "    return e\n",
    "\n",
    "sigma_hat = diag(xx - xz @ w_hat.T)/N\n",
    "\n",
    "print('4-6 :', xx[0,0])\n",
    "print('4-7 :', xx[0,1])\n",
    "print('4-8 :', xx[1,0])\n",
    "print('4-9 :', xx[1,1])\n",
    "print('4-10 :', xz[0,0])\n",
    "print('4-11:', xz[1,0])\n",
    "print('4-12:', w_hat[0,0])\n",
    "print('4-13:', w_hat[1,0])\n",
    "print('4-14:', sigma_hat[0,0])\n",
    "print('4-15:', sigma_hat[0,1])\n",
    "print('4-16:', sigma_hat[1,0])\n",
    "print('4-17:', sigma_hat[1,1])"
   ]
  },
  {
   "cell_type": "code",
   "execution_count": 10,
   "metadata": {},
   "outputs": [
    {
     "name": "stdout",
     "output_type": "stream",
     "text": [
      "5-1 : 1\n",
      "5-2 : 0\n",
      "5-3 : 1\n",
      "5-4 : 0\n",
      "5-5 : 1\n",
      "5-6 : 0\n",
      "5-7 : 0\n",
      "5-8 : 1\n",
      "5-9 : 2\n",
      "5-10: 0\n",
      "5-11: 0\n",
      "5-12: 1\n",
      "5-13: 1.253731343283582\n",
      "5-14: -0.34328358208955223\n",
      "5-15: 1.253731343283582\n",
      "5-16: -0.34328358208955223\n",
      "5-17: 1.184320479563161\n",
      "5-18: 0.0\n",
      "5-19: 0.0\n",
      "5-20: 2.951500415959227\n",
      "5-21: 2.756162760694816\n",
      "5-22: -0.4303853865003341\n",
      "5-23: -0.4303853865003341\n",
      "5-24: 3.0693440336914612\n"
     ]
    }
   ],
   "source": [
    "before = w @ w.T + sigma\n",
    "print('5-1 :', w[0,0])\n",
    "print('5-2 :', w[1,0])\n",
    "print('5-3 :', w[0,0])\n",
    "print('5-4 :', w[1,0])\n",
    "print('5-5 :', sigma[0,0])\n",
    "print('5-6 :', sigma[0,1])\n",
    "print('5-7 :', sigma[1,0])\n",
    "print('5-8 :', sigma[1,1])\n",
    "print('5-9 :', before[0,0])\n",
    "print('5-10:', before[0,1])\n",
    "print('5-11:', before[1,0])\n",
    "print('5-12:', before[1,1])\n",
    "\n",
    "after = w_hat @ w_hat.T + sigma_hat\n",
    "print('5-13:', w_hat[0,0])\n",
    "print('5-14:', w_hat[1,0])\n",
    "print('5-15:', w_hat[0,0])\n",
    "print('5-16:', w_hat[1,0])\n",
    "print('5-17:', sigma_hat[0,0])\n",
    "print('5-18:', sigma_hat[0,1])\n",
    "print('5-19:', sigma_hat[1,0])\n",
    "print('5-20:', sigma_hat[1,1])\n",
    "print('5-21:', after[0,0])\n",
    "print('5-22:', after[0,1])\n",
    "print('5-23:', after[1,0])\n",
    "print('5-24:', after[1,1])"
   ]
  }
 ],
 "metadata": {
  "interpreter": {
   "hash": "aee8b7b246df8f9039afb4144a1f6fd8d2ca17a180786b69acc140d282b71a49"
  },
  "kernelspec": {
   "display_name": "Python 3.9.10 64-bit",
   "language": "python",
   "name": "python3"
  },
  "language_info": {
   "codemirror_mode": {
    "name": "ipython",
    "version": 3
   },
   "file_extension": ".py",
   "mimetype": "text/x-python",
   "name": "python",
   "nbconvert_exporter": "python",
   "pygments_lexer": "ipython3",
   "version": "3.10.9"
  },
  "orig_nbformat": 4
 },
 "nbformat": 4,
 "nbformat_minor": 2
}
