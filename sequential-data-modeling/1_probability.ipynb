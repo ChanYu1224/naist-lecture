{
 "cells": [
  {
   "cell_type": "code",
   "execution_count": 67,
   "metadata": {},
   "outputs": [],
   "source": [
    "# initial value setting\n",
    "student_id = '2211224'\n",
    "n = []\n",
    "for i in range(len(student_id)):\n",
    "    n.append(int(student_id[-i-1]))"
   ]
  },
  {
   "cell_type": "markdown",
   "metadata": {},
   "source": [
    "### 1. Child Family Problem"
   ]
  },
  {
   "cell_type": "code",
   "execution_count": 68,
   "metadata": {},
   "outputs": [
    {
     "name": "stdout",
     "output_type": "stream",
     "text": [
      "1-1 : 0.109375\n",
      "1-2 : 0.21875\n",
      "1-3 : 0.2734375\n"
     ]
    }
   ],
   "source": [
    "N = n[0]+n[1]+2\n",
    "p_B = 0.5\n",
    "\n",
    "import math\n",
    "def comb(n, r):\n",
    "    return math.factorial(n) // (math.factorial(n-r) * math.factorial(r))\n",
    "\n",
    "def b(x, n, p):\n",
    "    return comb(n, x) * (p**x) * ((1-p)**(n-x))\n",
    "\n",
    "print('1-1 :', b(n[0]+2, N, p_B))\n",
    "print('1-2 :', b(n[0]+1, N, p_B))\n",
    "print('1-3 :', b(n[0], N, p_B))"
   ]
  },
  {
   "cell_type": "markdown",
   "metadata": {},
   "source": [
    "### 2. Dice Problem"
   ]
  },
  {
   "cell_type": "code",
   "execution_count": 69,
   "metadata": {},
   "outputs": [
    {
     "name": "stdout",
     "output_type": "stream",
     "text": [
      "---dies results---\n",
      "2-1 : 5\n",
      "2-2 : 3\n",
      "2-3 : 3\n",
      "2-4 : 2\n",
      "2-5 : 2\n",
      "2-6 : 3\n",
      "2-7 : 3\n",
      "[5, 3, 3, 2, 2, 3, 3]\n"
     ]
    }
   ],
   "source": [
    "print('---dies results---')\n",
    "result = []\n",
    "for i in range(len(n)):\n",
    "    print('2-'+str(i+1)+' :', n[i]+1)\n",
    "    result.append(n[i]+1)\n",
    "\n",
    "print(result)"
   ]
  },
  {
   "cell_type": "code",
   "execution_count": 74,
   "metadata": {},
   "outputs": [
    {
     "name": "stdout",
     "output_type": "stream",
     "text": [
      "2-10 : 1\n",
      "2-11 : 4\n",
      "2-12 : 4\n",
      "2-13 : 1\n",
      "2-14 : 1\n",
      "2-15 : 4\n",
      "2-16 : 4\n",
      "2-18 : 1\n",
      "2-19 : 1\n",
      "2-20 : 1\n",
      "2-21 : 2\n",
      "2-22 : 2\n",
      "2-23 : 1\n",
      "2-24 : 1\n",
      "---prior probability---\n",
      "P(A) = P(B) = 1/2\n",
      "\n",
      "---likelihood---\n",
      "P(D|A) = 256/20^7\n",
      "P(D|B) = 4/20^7\n",
      "\n",
      "---posterior probability---\n",
      "P(A|D) = 0.9846153846153847\n",
      "P(B|D) = 0.015384615384615385\n"
     ]
    }
   ],
   "source": [
    "die_a = [0,3,1,4,6,1,1,1,1,1,1]\n",
    "die_b = [0,2,2,1,1,1,2,3,3,3,2]\n",
    "\n",
    "p_da = 1\n",
    "p_db = 1\n",
    "\n",
    "for i in range(len(result)):\n",
    "    p_da *= die_a[result[i]]\n",
    "    print('2-'+str(10+i)+' :', die_a[result[i]])\n",
    "\n",
    "for i in range(len(result)):\n",
    "    p_db *= die_b[result[i]]\n",
    "    print('2-'+str(18+i)+' :', die_b[result[i]])\n",
    "\n",
    "print('---prior probability---')\n",
    "print('P(A) = P(B) = 1/2\\n')\n",
    "\n",
    "print('---likelihood---')\n",
    "print('P(D|A) = '+ str(p_da) +'/20^7')\n",
    "print('P(D|B) = '+ str(p_db) +'/20^7\\n')\n",
    "\n",
    "p_da /= 20**7\n",
    "p_db /= 20**7\n",
    "\n",
    "print('---posterior probability---')\n",
    "print('P(A|D) =', (p_da / (p_da+p_db)))\n",
    "print('P(B|D) =', (p_db / (p_db+p_da)))"
   ]
  },
  {
   "cell_type": "markdown",
   "metadata": {},
   "source": [
    "### 3. Regression"
   ]
  },
  {
   "cell_type": "code",
   "execution_count": 71,
   "metadata": {},
   "outputs": [
    {
     "name": "stdout",
     "output_type": "stream",
     "text": [
      "temperature : [10 19 27 32 40]\n",
      "ice_cream   : [ 50  90 120 160 210]\n"
     ]
    }
   ],
   "source": [
    "import numpy as np\n",
    "\n",
    "x = np.array([8, 17, 25, 30, 38])\n",
    "x += n[2]\n",
    "\n",
    "y = np.array([40, 80, 110, 150, 200])\n",
    "y += n[3]*10\n",
    "\n",
    "print('temperature :', x)\n",
    "print('ice_cream   :', y)"
   ]
  },
  {
   "cell_type": "code",
   "execution_count": 72,
   "metadata": {},
   "outputs": [
    {
     "name": "stdout",
     "output_type": "stream",
     "text": [
      "---parameters---\n",
      "x average : 25.6\n",
      "y average : 126.0\n",
      "a         : 5.2903946388682055\n",
      "b         : -9.43410275502606\n",
      "\n",
      "---formula---\n",
      "Y = 5.2903946388682055X + -9.43410275502606\n",
      "\n",
      "The number of sold ice creams in 40°C is 202.18168279970217\n"
     ]
    }
   ],
   "source": [
    "cov = np.cov([x,y])\n",
    "A = cov[0][1]/cov[0][0]\n",
    "B = np.average(y) - a*np.average(x)\n",
    "\n",
    "def prediction(x):\n",
    "    return A*x+B\n",
    "\n",
    "print('---parameters---')\n",
    "print('x average :', np.average(x))\n",
    "print('y average :', np.average(y))\n",
    "print('a         :', A)\n",
    "print('b         :', B)\n",
    "\n",
    "print('\\n---formula---')\n",
    "print('Y = '+str(A)+'X + '+str(B))\n",
    "\n",
    "print('\\nThe number of sold ice creams in 40°C is', prediction(40))"
   ]
  },
  {
   "cell_type": "markdown",
   "metadata": {},
   "source": [
    "### 4. Entropy"
   ]
  },
  {
   "cell_type": "code",
   "execution_count": 73,
   "metadata": {},
   "outputs": [
    {
     "name": "stdout",
     "output_type": "stream",
     "text": [
      "---prediction---\n",
      "q = [0.1553624 0.4223188 0.4223188]\n",
      "\n",
      "---entropy---\n",
      "H(p) = 1.3709505944546687\n",
      "\n",
      "---cross entropy---\n",
      "H(p,q) = 1.5321346372646854\n",
      "\n",
      "---KL relative entropy---\n",
      "KL(p||q) = 0.16118404281001653\n"
     ]
    }
   ],
   "source": [
    "def softmax(x):\n",
    "    y = np.exp(x)\n",
    "    f_x = y / np.sum(np.exp(x))\n",
    "    return f_x\n",
    "\n",
    "def entropy(p):\n",
    "    h = -np.sum(p*np.log2(p))\n",
    "    return h\n",
    "\n",
    "def cross_entropy(p,q):\n",
    "    h = -np.sum(p*np.log2(q))\n",
    "    return h\n",
    "\n",
    "def KL_divergence(p,q):\n",
    "    kl = np.sum(p*np.log2(p/q))\n",
    "    return kl\n",
    "\n",
    "p = [0.2, 0.2, 0.6]\n",
    "q = softmax([n[4]+1, n[5]+1, n[6]+1])\n",
    "\n",
    "print('---prediction---')\n",
    "print('q =', q)\n",
    "\n",
    "print('\\n---entropy---')\n",
    "print('H(p) =', entropy(p))\n",
    "\n",
    "print('\\n---cross entropy---')\n",
    "print('H(p,q) =', cross_entropy(p,q))\n",
    "\n",
    "print('\\n---KL relative entropy---')\n",
    "print('KL(p||q) =', KL_divergence(p,q))"
   ]
  }
 ],
 "metadata": {
  "interpreter": {
   "hash": "aee8b7b246df8f9039afb4144a1f6fd8d2ca17a180786b69acc140d282b71a49"
  },
  "kernelspec": {
   "display_name": "Python 3.9.10 64-bit",
   "language": "python",
   "name": "python3"
  },
  "language_info": {
   "codemirror_mode": {
    "name": "ipython",
    "version": 3
   },
   "file_extension": ".py",
   "mimetype": "text/x-python",
   "name": "python",
   "nbconvert_exporter": "python",
   "pygments_lexer": "ipython3",
   "version": "3.9.10"
  },
  "orig_nbformat": 4
 },
 "nbformat": 4,
 "nbformat_minor": 2
}
