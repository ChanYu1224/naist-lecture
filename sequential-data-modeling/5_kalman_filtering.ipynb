{
 "cells": [
  {
   "cell_type": "code",
   "execution_count": 6,
   "metadata": {},
   "outputs": [],
   "source": [
    "import numpy as np"
   ]
  },
  {
   "cell_type": "code",
   "execution_count": 7,
   "metadata": {},
   "outputs": [],
   "source": [
    "# initial value setting\n",
    "student_id = '2211224'\n",
    "b = list(map(int, student_id[3:7]))\n",
    "b = np.array(b)\n",
    "\n",
    "def gaussian_probability(mu, sigma, x):\n",
    "    return np.exp(-((x-mu)**2)/(2*sigma)) / np.sqrt(2*np.pi*sigma)"
   ]
  },
  {
   "cell_type": "code",
   "execution_count": 8,
   "metadata": {},
   "outputs": [
    {
     "name": "stdout",
     "output_type": "stream",
     "text": [
      "1-1 : 1\n",
      "1-2 : 1\n",
      "1-3 : 50\n",
      "1-4 : 70\n",
      "1-5 : 70\n",
      "1-6 : 110\n"
     ]
    }
   ],
   "source": [
    "x = 20*b + 30\n",
    "\n",
    "a = 1\n",
    "w = 1\n",
    "\n",
    "emission_variance = 40\n",
    "transition_variance = 20\n",
    "mu = 100\n",
    "p = 10\n",
    "\n",
    "predicted_mu = 0\n",
    "predicted_p = 0\n",
    "likelihood = 0\n",
    "\n",
    "print('1-1 :', a)\n",
    "print('1-2 :', w)\n",
    "print('1-3 :', x[0])\n",
    "print('1-4 :', x[1])\n",
    "print('1-5 :', x[2])\n",
    "print('1-6 :', x[3])"
   ]
  },
  {
   "cell_type": "code",
   "execution_count": 9,
   "metadata": {},
   "outputs": [
    {
     "name": "stdout",
     "output_type": "stream",
     "text": [
      "2-1 : 100\n",
      "2-2 : 30\n",
      "2-3 : 100\n",
      "2-4 : 30\n",
      "2-5 : 100\n",
      "2-6 : 70\n",
      "2-7 : -20.90032901137221\n",
      "2-8 : 0.42857142857142855\n",
      "2-9 : 78.57142857142857\n",
      "2-10 : 17.142857142857142\n",
      "2-11 : 78.57142857142857\n",
      "2-12 : 17.142857142857142\n"
     ]
    }
   ],
   "source": [
    "predicted_mu = mu\n",
    "predicted_p = a*p*a+transition_variance\n",
    "\n",
    "print('2-1 :', predicted_mu)\n",
    "print('2-2 :', predicted_p)\n",
    "print('2-3 :', predicted_mu)\n",
    "print('2-4 :', predicted_p)\n",
    "\n",
    "observation_mu = w*predicted_mu\n",
    "observation_p = w*predicted_p*w + emission_variance\n",
    "\n",
    "print('2-5 :', observation_mu)\n",
    "print('2-6 :', observation_p)\n",
    "print('2-7 :', np.log(gaussian_probability(observation_mu, observation_p, x[0])))\n",
    "likelihood += np.log(gaussian_probability(observation_mu, observation_p, x[0]))\n",
    "\n",
    "kalman_gain = predicted_p*w / (w*predicted_p*w + emission_variance)\n",
    "mu = predicted_mu + kalman_gain*(x[0]-w*predicted_mu)\n",
    "p = (1-kalman_gain*w)*predicted_p\n",
    "\n",
    "print('2-8 :', kalman_gain)\n",
    "print('2-9 :', mu)\n",
    "print('2-10 :', p)\n",
    "print('2-11 :', mu)\n",
    "print('2-12 :', p)"
   ]
  },
  {
   "cell_type": "code",
   "execution_count": 10,
   "metadata": {},
   "outputs": [
    {
     "name": "stdout",
     "output_type": "stream",
     "text": [
      "3-1  : 78.57142857142857\n",
      "3-2  : 37.14285714285714\n",
      "3-3  : 78.57142857142857\n",
      "3-4  : 37.14285714285714\n",
      "3-5  : 78.57142857142857\n",
      "3-6  : 77.14285714285714\n",
      "3-7  : -3.567958504646652\n",
      "3-8  : -24.46828751601886\n",
      "3-9  : 0.48148148148148145\n",
      "3-10 : 74.44444444444444\n",
      "3-11 : 19.25925925925926\n",
      "3-12 : 74.44444444444444\n",
      "3-13 : 19.25925925925926\n",
      "\n",
      "4-1  : 74.44444444444444\n",
      "4-2  : 39.25925925925926\n",
      "4-3  : 74.44444444444444\n",
      "4-4  : 39.25925925925926\n",
      "4-5  : 74.44444444444444\n",
      "4-6  : 79.25925925925927\n",
      "4-7  : -3.229911246110768\n",
      "4-8  : -27.69819876212963\n",
      "4-9  : 0.49532710280373826\n",
      "4-10 : 72.24299065420561\n",
      "4-11 : 19.813084112149536\n",
      "4-12 : 72.24299065420561\n",
      "4-13 : 19.813084112149536\n",
      "\n",
      "5-1  : 72.24299065420561\n",
      "5-2  : 39.81308411214954\n",
      "5-3  : 72.24299065420561\n",
      "5-4  : 39.81308411214954\n",
      "5-5  : 72.24299065420561\n",
      "5-6  : 79.81308411214954\n",
      "5-7  : -12.039597116332784\n",
      "5-8  : -39.737795878462414\n",
      "5-9  : 0.4988290398126464\n",
      "5-10 : 91.07728337236534\n",
      "5-11 : 19.953161592505854\n",
      "5-12 : 91.07728337236534\n",
      "5-13 : 19.953161592505854\n",
      "\n"
     ]
    }
   ],
   "source": [
    "for i in range(1,4):\n",
    "    predicted_mu = mu\n",
    "    predicted_p = a*p*a+transition_variance\n",
    "\n",
    "    print(str(2+i)+'-1  :', predicted_mu)\n",
    "    print(str(2+i)+'-2  :', predicted_p)\n",
    "    print(str(2+i)+'-3  :', predicted_mu)\n",
    "    print(str(2+i)+'-4  :', predicted_p)\n",
    "\n",
    "    print(str(2+i)+'-5  :', w*predicted_mu)\n",
    "    print(str(2+i)+'-6  :', w*predicted_p*w + emission_variance)\n",
    "\n",
    "    observation_mu = w*predicted_mu\n",
    "    observation_p = w*predicted_p*w + emission_variance\n",
    "\n",
    "    print(str(2+i)+'-7  :', np.log(gaussian_probability(observation_mu, observation_p, x[i])))\n",
    "    likelihood += np.log(gaussian_probability(observation_mu, observation_p, x[i]))\n",
    "    print(str(2+i)+'-8  :', likelihood)\n",
    "\n",
    "    kalman_gain = predicted_p*w / (w*predicted_p*w + emission_variance)\n",
    "    mu = predicted_mu + kalman_gain*(x[i]-w*predicted_mu)\n",
    "    p = (1-kalman_gain*w)*predicted_p\n",
    "\n",
    "    print(str(2+i)+'-9  :', kalman_gain)\n",
    "    print(str(2+i)+'-10 :', mu)\n",
    "    print(str(2+i)+'-11 :', p)\n",
    "    print(str(2+i)+'-12 :', mu)\n",
    "    print(str(2+i)+'-13 :', p)\n",
    "    print()"
   ]
  }
 ],
 "metadata": {
  "interpreter": {
   "hash": "0554a82fbfe5ca376267ac05f8fec98da143c6cfbbd90777e1fa955353dd8465"
  },
  "kernelspec": {
   "display_name": "Python 3.9.12 ('.venv': venv)",
   "language": "python",
   "name": "python3"
  },
  "language_info": {
   "codemirror_mode": {
    "name": "ipython",
    "version": 3
   },
   "file_extension": ".py",
   "mimetype": "text/x-python",
   "name": "python",
   "nbconvert_exporter": "python",
   "pygments_lexer": "ipython3",
   "version": "3.9.12"
  },
  "orig_nbformat": 4
 },
 "nbformat": 4,
 "nbformat_minor": 2
}
