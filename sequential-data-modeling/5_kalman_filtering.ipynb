{
 "cells": [
  {
   "cell_type": "code",
   "execution_count": 16,
   "metadata": {},
   "outputs": [],
   "source": [
    "import numpy as np"
   ]
  },
  {
   "cell_type": "code",
   "execution_count": 17,
   "metadata": {},
   "outputs": [],
   "source": [
    "# initial value setting\n",
    "student_id = '2211224'\n",
    "b = list(map(int, student_id[3:7]))\n",
    "b = np.array(b)\n",
    "\n",
    "def gaussian_probability(mu, sigma, x):\n",
    "    return np.exp(-((x-mu)**2)/(2*sigma)) / np.sqrt(2*np.pi*sigma)"
   ]
  },
  {
   "cell_type": "code",
   "execution_count": 18,
   "metadata": {},
   "outputs": [
    {
     "name": "stdout",
     "output_type": "stream",
     "text": [
      "1-1 : 1\n",
      "1-2 : 1\n",
      "1-3 : 30\n",
      "1-4 : 40\n",
      "1-5 : 40\n",
      "1-6 : 60\n"
     ]
    }
   ],
   "source": [
    "x = 10*b + 20\n",
    "\n",
    "a = 1\n",
    "w = 1\n",
    "\n",
    "emission_variance = 30\n",
    "transition_variance = 10\n",
    "mu = 80\n",
    "p = 20\n",
    "\n",
    "predicted_mu = 0\n",
    "predicted_p = 0\n",
    "likelihood = 0\n",
    "\n",
    "print('1-1 :', a)\n",
    "print('1-2 :', w)\n",
    "print('1-3 :', x[0])\n",
    "print('1-4 :', x[1])\n",
    "print('1-5 :', x[2])\n",
    "print('1-6 :', x[3])"
   ]
  },
  {
   "cell_type": "code",
   "execution_count": 19,
   "metadata": {},
   "outputs": [
    {
     "name": "stdout",
     "output_type": "stream",
     "text": [
      "2-1 : 80\n",
      "2-2 : 30\n",
      "2-3 : 80\n",
      "2-4 : 30\n",
      "2-5 : 80\n",
      "2-6 : 60\n",
      "2-7 : -23.799444147649055\n",
      "2-8 : 0.5\n",
      "2-9 : 55.0\n",
      "2-10 : 15.0\n",
      "2-11 : 55.0\n",
      "2-12 : 15.0\n"
     ]
    }
   ],
   "source": [
    "predicted_mu = mu\n",
    "predicted_p = a*p*a+transition_variance\n",
    "\n",
    "print('2-1 :', predicted_mu)\n",
    "print('2-2 :', predicted_p)\n",
    "print('2-3 :', predicted_mu)\n",
    "print('2-4 :', predicted_p)\n",
    "\n",
    "observation_mu = w*predicted_mu\n",
    "observation_p = w*predicted_p*w + emission_variance\n",
    "\n",
    "print('2-5 :', observation_mu)\n",
    "print('2-6 :', observation_p)\n",
    "print('2-7 :', np.log(gaussian_probability(observation_mu, observation_p, x[0])))\n",
    "likelihood += np.log(gaussian_probability(observation_mu, observation_p, x[0]))\n",
    "\n",
    "kalman_gain = predicted_p*w / (w*predicted_p*w + emission_variance)\n",
    "mu = predicted_mu + kalman_gain*(x[0]-w*predicted_mu)\n",
    "p = (1-kalman_gain*w)*predicted_p\n",
    "\n",
    "print('2-8 :', kalman_gain)\n",
    "print('2-9 :', mu)\n",
    "print('2-10 :', p)\n",
    "print('2-11 :', mu)\n",
    "print('2-12 :', p)"
   ]
  },
  {
   "cell_type": "code",
   "execution_count": 20,
   "metadata": {},
   "outputs": [
    {
     "name": "stdout",
     "output_type": "stream",
     "text": [
      "3-1  : 55.0\n",
      "3-2  : 25.0\n",
      "3-3  : 55.0\n",
      "3-4  : 25.0\n",
      "3-5  : 55.0\n",
      "3-6  : 55.0\n",
      "3-7  : -4.968059671275453\n",
      "3-8  : -28.76750381892451\n",
      "3-9  : 0.45454545454545453\n",
      "3-10 : 48.18181818181818\n",
      "3-11 : 13.636363636363635\n",
      "3-12 : 48.18181818181818\n",
      "3-13 : 13.636363636363635\n",
      "\n",
      "4-1  : 48.18181818181818\n",
      "4-2  : 23.636363636363633\n",
      "4-3  : 48.18181818181818\n",
      "4-4  : 23.636363636363633\n",
      "4-5  : 48.18181818181818\n",
      "4-6  : 53.63636363636363\n",
      "4-7  : -3.534089145224553\n",
      "4-8  : -32.301592964149066\n",
      "4-9  : 0.4406779661016949\n",
      "4-10 : 44.57627118644068\n",
      "4-11 : 13.220338983050848\n",
      "4-12 : 44.57627118644068\n",
      "4-13 : 13.220338983050848\n",
      "\n",
      "5-1  : 44.57627118644068\n",
      "5-2  : 23.220338983050848\n",
      "5-3  : 44.57627118644068\n",
      "5-4  : 23.220338983050848\n",
      "5-5  : 44.57627118644068\n",
      "5-6  : 53.22033898305085\n",
      "5-7  : -5.141125924005348\n",
      "5-8  : -37.44271888815442\n",
      "5-9  : 0.4363057324840764\n",
      "5-10 : 51.30573248407643\n",
      "5-11 : 13.089171974522293\n",
      "5-12 : 51.30573248407643\n",
      "5-13 : 13.089171974522293\n",
      "\n"
     ]
    }
   ],
   "source": [
    "for i in range(1,4):\n",
    "    predicted_mu = mu\n",
    "    predicted_p = a*p*a+transition_variance\n",
    "\n",
    "    print(str(2+i)+'-1  :', predicted_mu)\n",
    "    print(str(2+i)+'-2  :', predicted_p)\n",
    "    print(str(2+i)+'-3  :', predicted_mu)\n",
    "    print(str(2+i)+'-4  :', predicted_p)\n",
    "\n",
    "    print(str(2+i)+'-5  :', w*predicted_mu)\n",
    "    print(str(2+i)+'-6  :', w*predicted_p*w + emission_variance)\n",
    "\n",
    "    observation_mu = w*predicted_mu\n",
    "    observation_p = w*predicted_p*w + emission_variance\n",
    "\n",
    "    print(str(2+i)+'-7  :', np.log(gaussian_probability(observation_mu, observation_p, x[i])))\n",
    "    likelihood += np.log(gaussian_probability(observation_mu, observation_p, x[i]))\n",
    "    print(str(2+i)+'-8  :', likelihood)\n",
    "\n",
    "    kalman_gain = predicted_p*w / (w*predicted_p*w + emission_variance)\n",
    "    mu = predicted_mu + kalman_gain*(x[i]-w*predicted_mu)\n",
    "    p = (1-kalman_gain*w)*predicted_p\n",
    "\n",
    "    print(str(2+i)+'-9  :', kalman_gain)\n",
    "    print(str(2+i)+'-10 :', mu)\n",
    "    print(str(2+i)+'-11 :', p)\n",
    "    print(str(2+i)+'-12 :', mu)\n",
    "    print(str(2+i)+'-13 :', p)\n",
    "    print()"
   ]
  }
 ],
 "metadata": {
  "interpreter": {
   "hash": "0554a82fbfe5ca376267ac05f8fec98da143c6cfbbd90777e1fa955353dd8465"
  },
  "kernelspec": {
   "display_name": "Python 3.9.12 ('.venv': venv)",
   "language": "python",
   "name": "python3"
  },
  "language_info": {
   "codemirror_mode": {
    "name": "ipython",
    "version": 3
   },
   "file_extension": ".py",
   "mimetype": "text/x-python",
   "name": "python",
   "nbconvert_exporter": "python",
   "pygments_lexer": "ipython3",
   "version": "3.10.9"
  },
  "orig_nbformat": 4
 },
 "nbformat": 4,
 "nbformat_minor": 2
}
