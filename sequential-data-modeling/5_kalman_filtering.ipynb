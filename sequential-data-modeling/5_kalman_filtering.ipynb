{
 "cells": [
  {
   "cell_type": "code",
   "execution_count": 1,
   "metadata": {},
   "outputs": [],
   "source": [
    "import numpy as np"
   ]
  },
  {
   "cell_type": "code",
   "execution_count": 2,
   "metadata": {},
   "outputs": [],
   "source": [
    "# initial value setting\n",
    "student_id = '2211224'\n",
    "b = list(map(int, student_id[3:7]))\n",
    "b = np.array(b)"
   ]
  },
  {
   "cell_type": "code",
   "execution_count": 3,
   "metadata": {},
   "outputs": [
    {
     "name": "stdout",
     "output_type": "stream",
     "text": [
      "1-1 : 1\n",
      "1-2 : 1\n",
      "1-3 : 50\n",
      "1-4 : 70\n",
      "1-5 : 70\n",
      "1-6 : 110\n"
     ]
    }
   ],
   "source": [
    "x = 20*b + 30\n",
    "\n",
    "a = 1\n",
    "w = 1\n",
    "\n",
    "emission_variance = 40\n",
    "transition_variance = 20\n",
    "mu = [100]\n",
    "p = [10]\n",
    "\n",
    "predicted_mu = []\n",
    "predicted_p = []\n",
    "kalman_gain = transition_variance / (transition_variance + emission_variance)\n",
    "\n",
    "print('1-1 :', a)\n",
    "print('1-2 :', w)\n",
    "print('1-3 :', x[0])\n",
    "print('1-4 :', x[1])\n",
    "print('1-5 :', x[2])\n",
    "print('1-6 :', x[3])"
   ]
  },
  {
   "cell_type": "code",
   "execution_count": null,
   "metadata": {},
   "outputs": [],
   "source": [
    "predicted_mu.append(mu[0])\n",
    "predicted_p.append(a*p[0]*a+transition_variance)\n",
    "\n",
    "print('2-1 :', predicted_mu[0])\n",
    "print('2-2 :', predicted_p[0])\n",
    "print('2-3 :', mu[0])\n",
    "print('2-4 :', p[0])\n",
    "\n",
    "print('2-5 :', w*predicted_mu[0])\n",
    "print('2-6 :', w*predicted_p*w + emission_variance)\n",
    "print('2-7 :', )"
   ]
  }
 ],
 "metadata": {
  "interpreter": {
   "hash": "dd061d9bf9f85fb3c8aab9cd636eb2c39724f48e2f38fd429325de2f5e984347"
  },
  "kernelspec": {
   "display_name": "Python 3.9.12 64-bit ('3.9.12')",
   "language": "python",
   "name": "python3"
  },
  "language_info": {
   "codemirror_mode": {
    "name": "ipython",
    "version": 3
   },
   "file_extension": ".py",
   "mimetype": "text/x-python",
   "name": "python",
   "nbconvert_exporter": "python",
   "pygments_lexer": "ipython3",
   "version": "3.9.12"
  },
  "orig_nbformat": 4
 },
 "nbformat": 4,
 "nbformat_minor": 2
}
