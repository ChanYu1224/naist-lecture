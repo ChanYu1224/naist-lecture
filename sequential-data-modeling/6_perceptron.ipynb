{
 "cells": [
  {
   "cell_type": "code",
   "execution_count": 5,
   "metadata": {},
   "outputs": [],
   "source": [
    "import numpy as np\n",
    "\n",
    "# initial value setting\n",
    "student_id = '2211224'\n",
    "b = list(map(int, student_id[3:7]))\n",
    "\n",
    "x = [\n",
    "    [0,0],\n",
    "    [0,1],\n",
    "    [1,0],\n",
    "    [1,1],\n",
    "]\n",
    "y = [1, -1, -1, 1]\n",
    "learning_rate = 1.0\n",
    "\n",
    "def activation_function(x):\n",
    "    return np.tanh(x)\n",
    "\n",
    "def loss_function(y, predicted):\n",
    "    return (1/2)*(y-predicted)**2"
   ]
  },
  {
   "cell_type": "code",
   "execution_count": 6,
   "metadata": {},
   "outputs": [
    {
     "name": "stdout",
     "output_type": "stream",
     "text": [
      "w_11 = 0.4\n",
      "w_12 = -0.6\n",
      "w_13 = 0.4\n",
      "w_14 = 0.4\n",
      "w_15 = 0.4\n",
      "w_16 = -0.6\n",
      "w_21 = -0.4\n",
      "w_22 = -0.4\n",
      "w_23 = -0.6\n"
     ]
    }
   ],
   "source": [
    "w = np.zeros((3,7))\n",
    "\n",
    "def print_weight():\n",
    "    for i in range(1,3):\n",
    "        for j in range(1,7):\n",
    "            if i == 2 and j >= 4: break\n",
    "            print('w_'+str(i)+str(j)+' =', w[i][j])\n",
    "\n",
    "\n",
    "w[1][1] = (b[2]+2)/10\n",
    "w[1][2] = -(b[3]+2)/10\n",
    "w[1][3] = (b[1]+2)/10\n",
    "w[1][4] = (b[1]+2)/10\n",
    "w[1][5] = (b[2]+2)/10\n",
    "w[1][6] = -(b[3]+2)/10\n",
    "w[2][1] = -(b[1]+2)/10\n",
    "w[2][2] = -(b[2]+2)/10\n",
    "w[2][3] = -(b[3]+2)/10\n",
    "\n",
    "print_weight()"
   ]
  },
  {
   "cell_type": "code",
   "execution_count": 7,
   "metadata": {},
   "outputs": [],
   "source": [
    "def train(x:list, y:int):\n",
    "    # forward\n",
    "    u_1 = x[0]*w[1][1] + x[1]*w[1][3] + 1*w[1][5]\n",
    "    z_1 = activation_function(u_1)\n",
    "    u_2 = x[0]*w[1][2] + x[1]*w[1][4] + 1*w[1][6]\n",
    "    z_2 = activation_function(u_2)\n",
    "    u_3 = z_1*w[2][1] + z_2*w[2][2] + 1*w[2][3]\n",
    "    z_3 = activation_function(u_3)\n",
    "\n",
    "    # prediction\n",
    "    predicted = z_3\n",
    "\n",
    "    # calculate loss\n",
    "    loss = loss_function(y, predicted)\n",
    "\n",
    "    # calc gradients\n",
    "    grad = np.zeros((3,7))\n",
    "    grad[1][1] = -(y-predicted) * (1-z_3**2) * w[2][1] * (1-z_1**2) * x[0]\n",
    "    grad[1][2] = -(y-predicted) * (1-z_3**2) * w[2][2] * (1-z_2**2) * x[0]\n",
    "    grad[1][3] = -(y-predicted) * (1-z_3**2) * w[2][1] * (1-z_1**2) * x[1]\n",
    "    grad[1][4] = -(y-predicted) * (1-z_3**2) * w[2][2] * (1-z_2**2) * x[1]\n",
    "    grad[1][5] = -(y-predicted) * (1-z_3**2) * w[2][1] * (1-z_1**2) * 1\n",
    "    grad[1][6] = -(y-predicted) * (1-z_3**2) * w[2][2] * (1-z_2**2) * 1\n",
    "    grad[2][1] = -(y-predicted) * (1-z_3**2) * z_1\n",
    "    grad[2][2] = -(y-predicted) * (1-z_3**2) * z_2\n",
    "    grad[2][3] = -(y-predicted) * (1-z_3**2) * 1\n",
    "\n",
    "    # update weight\n",
    "    for i in range(1,3):\n",
    "        for j in range(1,7):\n",
    "            if i == 2 and j >= 4: break\n",
    "            w[i][j] = w[i][j] - learning_rate * grad[i][j]\n",
    "    \n",
    "    print_weight()\n",
    "    print('predicted :', predicted)\n",
    "    print('true      :', y)\n",
    "    print('loss      :', loss)"
   ]
  },
  {
   "cell_type": "code",
   "execution_count": 8,
   "metadata": {},
   "outputs": [
    {
     "name": "stdout",
     "output_type": "stream",
     "text": [
      "--- No.1---\n",
      "w_11 = 0.4\n",
      "w_12 = -0.6\n",
      "w_13 = 0.4\n",
      "w_14 = 0.4\n",
      "w_15 = 0.012681575279411883\n",
      "w_16 = -0.9221069247383742\n",
      "w_21 = 0.029974762507301078\n",
      "w_22 = -1.0077599440040412\n",
      "w_23 = 0.5316645266120562\n",
      "predicted : -0.49083500022715043\n",
      "true      : 1\n",
      "loss      : 1.1112944989511437\n",
      "--- No.2---\n",
      "w_11 = 0.4\n",
      "w_12 = -0.6\n",
      "w_13 = 0.3818448700393252\n",
      "w_14 = 0.9548627448940579\n",
      "w_15 = -0.0054735546812629335\n",
      "w_16 = -0.36724417984431634\n",
      "w_21 = -0.24933991641911718\n",
      "w_22 = -0.6651282636392495\n",
      "w_23 = -0.18315742976334515\n",
      "predicted : 0.7724689917101857\n",
      "true      : -1\n",
      "loss      : 1.570823163287061\n",
      "--- No.3---\n",
      "w_11 = 0.6484348481581096\n",
      "w_12 = -0.2596446577331469\n",
      "w_13 = 0.3818448700393252\n",
      "w_14 = 0.9548627448940579\n",
      "w_15 = 0.24296129347684667\n",
      "w_16 = -0.026888837577463243\n",
      "w_21 = -0.684513473238687\n",
      "w_22 = 0.201715524732906\n",
      "w_23 = -1.3428290014486248\n",
      "predicted : 0.2169502952773874\n",
      "true      : -1\n",
      "loss      : 0.7404840105878602\n",
      "--- No.4---\n",
      "w_11 = 0.6119231010299037\n",
      "w_12 = -0.23333476620969346\n",
      "w_13 = 0.3453331229111193\n",
      "w_14 = 0.9811726364175113\n",
      "w_15 = 0.20644954634864074\n",
      "w_16 = -0.0005789460540098317\n",
      "w_21 = -0.5153763204102652\n",
      "w_22 = 0.31726345012344503\n",
      "w_23 = -1.144932230462982\n",
      "predicted : -0.9478406896718486\n",
      "true      : 1\n",
      "loss      : 1.8970416761706517\n"
     ]
    }
   ],
   "source": [
    "for t in range(4):\n",
    "    print('--- No.'+str(t+1)+'---')\n",
    "    train(x[t], y[t])"
   ]
  }
 ],
 "metadata": {
  "kernelspec": {
   "display_name": "Python 3.9.12 ('.venv': venv)",
   "language": "python",
   "name": "python3"
  },
  "language_info": {
   "codemirror_mode": {
    "name": "ipython",
    "version": 3
   },
   "file_extension": ".py",
   "mimetype": "text/x-python",
   "name": "python",
   "nbconvert_exporter": "python",
   "pygments_lexer": "ipython3",
   "version": "3.9.12"
  },
  "orig_nbformat": 4,
  "vscode": {
   "interpreter": {
    "hash": "688ad565c08edb0899b8bd0741344b16fcf0b3dbcc26d6e95bbc405bd5ad4682"
   }
  }
 },
 "nbformat": 4,
 "nbformat_minor": 2
}
