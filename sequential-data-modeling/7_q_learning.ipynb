{
 "cells": [
  {
   "cell_type": "code",
   "execution_count": 6,
   "metadata": {},
   "outputs": [
    {
     "name": "stdout",
     "output_type": "stream",
     "text": [
      "[1, 2, 2, 4]\n"
     ]
    }
   ],
   "source": [
    "student_id = '2211224'\n",
    "b = list(map(int,list(student_id[3:])))\n",
    "\n",
    "LEARNING_RATE = 0.1\n",
    "DISCOUNT_RATE = 0.1\n",
    "\n",
    "sample = [\n",
    "    ['Mc', 'Donalds'],\n",
    "    ['Mc', 'Burger'],\n",
    "    ['Mos', 'Donalds'],\n",
    "    ['Mos', 'Burger'],\n",
    "]\n",
    "\n",
    "correct = ['McDonalds', 'MosBurger']\n",
    "\n",
    "print(b)"
   ]
  },
  {
   "cell_type": "code",
   "execution_count": 7,
   "metadata": {},
   "outputs": [
    {
     "name": "stdout",
     "output_type": "stream",
     "text": [
      "Q(s_0, Mc) = 0.0\n",
      "Q(s_0, Mos) = -0.2\n",
      "Q(s_1, Donalds) = -0.2\n",
      "Q(s_1, Burger) = 0.2\n",
      "Q(s_2, Donalds) = 0.2\n",
      "Q(s_2, Burger) = 0.2\n",
      "Q(s_3, empty) = 0\n"
     ]
    }
   ],
   "source": [
    "Q = [\n",
    "    {\n",
    "        'Mc': (b[1]-b[2])/10,\n",
    "        'Mos': (b[1]-b[3])/10,\n",
    "    },\n",
    "    {\n",
    "        'Donalds': (b[2]-b[3])/10,\n",
    "        'Burger': (b[3]-b[2])/10,\n",
    "    },\n",
    "    {\n",
    "        'Donalds': (b[3]-b[1])/10,\n",
    "        'Burger': (b[3]-b[2])/10,\n",
    "    },\n",
    "    {\n",
    "        'empty': 0,\n",
    "    }\n",
    "]\n",
    "\n",
    "def display_Q_table():\n",
    "    for i, q in enumerate(Q):\n",
    "        for key, value in q.items():\n",
    "            print('Q(s_'+ str(i) +', '+ key +') = '+ str(value))\n",
    "\n",
    "\n",
    "def update_Q_table(now_state, now_action, next_state, reward):\n",
    "    Q[now_state][now_action] = (1-LEARNING_RATE)*Q[now_state][now_action] + LEARNING_RATE*(reward + DISCOUNT_RATE*max(Q[next_state].values()))\n",
    "\n",
    "display_Q_table()"
   ]
  },
  {
   "cell_type": "code",
   "execution_count": 8,
   "metadata": {},
   "outputs": [
    {
     "name": "stdout",
     "output_type": "stream",
     "text": [
      "Q(s_0, Mc) = 0.0020000000000000005\n",
      "Q(s_0, Mos) = -0.2\n",
      "Q(s_1, Donalds) = -0.2\n",
      "Q(s_1, Burger) = 0.08000000000000002\n",
      "Q(s_2, Donalds) = 0.2\n",
      "Q(s_2, Burger) = 0.2\n",
      "Q(s_3, empty) = 0\n"
     ]
    }
   ],
   "source": [
    "actions = sample[(b[1]+b[2]+b[3]+1)%4]\n",
    "\n",
    "if actions[0] == 'Mc':\n",
    "    state = 1\n",
    "elif actions[0] == 'Mos':\n",
    "    state = 2\n",
    "\n",
    "if (actions[0]+actions[1] in correct):\n",
    "    reward = 1\n",
    "else:\n",
    "    reward = -1\n",
    "\n",
    "update_Q_table(now_state=0, now_action=actions[0], next_state=state, reward=0)\n",
    "update_Q_table(now_state=state, now_action=actions[1], next_state=3, reward=reward)\n",
    "display_Q_table()"
   ]
  },
  {
   "cell_type": "code",
   "execution_count": 9,
   "metadata": {},
   "outputs": [
    {
     "name": "stdout",
     "output_type": "stream",
     "text": [
      "Q(s_0, Mc) = 0.0020000000000000005\n",
      "Q(s_0, Mos) = -0.17800000000000002\n",
      "Q(s_1, Donalds) = -0.2\n",
      "Q(s_1, Burger) = 0.08000000000000002\n",
      "Q(s_2, Donalds) = 0.08000000000000002\n",
      "Q(s_2, Burger) = 0.2\n",
      "Q(s_3, empty) = 0\n"
     ]
    }
   ],
   "source": [
    "actions = sample[(b[1]+b[2]+b[3]+2)%4]\n",
    "\n",
    "if actions[0] == 'Mc':\n",
    "    state = 1\n",
    "elif actions[0] == 'Mos':\n",
    "    state = 2\n",
    "\n",
    "if (actions[0]+actions[1] in correct):\n",
    "    reward = 1\n",
    "else:\n",
    "    reward = -1\n",
    "\n",
    "update_Q_table(now_state=0, now_action=actions[0], next_state=state, reward=0)\n",
    "update_Q_table(now_state=state, now_action=actions[1], next_state=3, reward=reward)\n",
    "display_Q_table()"
   ]
  },
  {
   "cell_type": "code",
   "execution_count": 10,
   "metadata": {},
   "outputs": [
    {
     "name": "stdout",
     "output_type": "stream",
     "text": [
      "Q(s_0, Mc) = 0.0020000000000000005\n",
      "Q(s_0, Mos) = -0.1582\n",
      "Q(s_1, Donalds) = -0.2\n",
      "Q(s_1, Burger) = 0.08000000000000002\n",
      "Q(s_2, Donalds) = 0.08000000000000002\n",
      "Q(s_2, Burger) = 0.28\n",
      "Q(s_3, empty) = 0\n"
     ]
    }
   ],
   "source": [
    "actions = sample[(b[1]+b[2]+b[3]+3)%4]\n",
    "\n",
    "if actions[0] == 'Mc':\n",
    "    state = 1\n",
    "elif actions[0] == 'Mos':\n",
    "    state = 2\n",
    "\n",
    "if (actions[0]+actions[1] in correct):\n",
    "    reward = 1\n",
    "else:\n",
    "    reward = -1\n",
    "\n",
    "update_Q_table(now_state=0, now_action=actions[0], next_state=state, reward=0)\n",
    "update_Q_table(now_state=state, now_action=actions[1], next_state=3, reward=reward)\n",
    "display_Q_table()"
   ]
  }
 ],
 "metadata": {
  "kernelspec": {
   "display_name": "pytorch-tutorial",
   "language": "python",
   "name": "pytorch-tutorial"
  },
  "language_info": {
   "codemirror_mode": {
    "name": "ipython",
    "version": 3
   },
   "file_extension": ".py",
   "mimetype": "text/x-python",
   "name": "python",
   "nbconvert_exporter": "python",
   "pygments_lexer": "ipython3",
   "version": "3.9.12"
  },
  "orig_nbformat": 4,
  "vscode": {
   "interpreter": {
    "hash": "688ad565c08edb0899b8bd0741344b16fcf0b3dbcc26d6e95bbc405bd5ad4682"
   }
  }
 },
 "nbformat": 4,
 "nbformat_minor": 2
}
